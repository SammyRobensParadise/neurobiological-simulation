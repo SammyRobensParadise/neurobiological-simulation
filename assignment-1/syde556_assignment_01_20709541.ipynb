{
 "cells": [
  {
   "cell_type": "markdown",
   "metadata": {},
   "source": [
    "# SYDE 556/750 --- Assignment 1\n",
    "\n",
    "**Student ID: 20709541**\n",
    "\n",
    "_Note:_ Please include your numerical student ID only, do _not_ include your name.\n",
    "\n",
    "_Note:_ Refer to the [PDF](https://github.com/celiasmith/syde556-f22/raw/master/assignments/assignment_01/syde556_assignment_01.pdf) for the full instructions (including some hints), this notebook contains abbreviated instructions only. Cells you need to fill out are marked with a \"writing hand\" symbol. Of course, you can add new cells in between the instructions, but please leave the instructions intact to facilitate marking.\n"
   ]
  },
  {
   "cell_type": "code",
   "execution_count": 827,
   "metadata": {},
   "outputs": [],
   "source": [
    "# Import numpy and matplotlib -- you shouldn't need any other libraries\n",
    "import numpy as np\n",
    "import matplotlib.pyplot as plt\n",
    "import scipy.optimize # For question 2.1b)\n",
    "\n",
    "# Fix the numpy random seed for reproducible results\n",
    "np.random.seed(18945)\n",
    "\n",
    "# Some formating options\n",
    "%config InlineBackend.figure_formats = ['svg']"
   ]
  },
  {
   "cell_type": "markdown",
   "metadata": {},
   "source": [
    "# 1. Representation of Scalars\n",
    "\n",
    "## 1.1 Basic encoding and decoding\n",
    "\n",
    "**a) Computing gain and bias.** In general, for a neuron model $a = G[J]$ (and assuming that the inverse $J = G^{-1}[a]$ exists), solve the following system of equations to compute the gain $\\alpha$, and the bias $J^\\mathrm{bias}$ given a maximum rate $a^\\mathrm{max}$ and an $x$-intercept $\\xi$.\n",
    "\n",
    "$$a^\\mathrm{max} = G[\\alpha + J^\\mathrm{bias}] \\,, \\quad\\quad 0 = G[\\alpha \\xi + J^\\mathrm{bias}] \\,.$$\n"
   ]
  },
  {
   "cell_type": "markdown",
   "metadata": {},
   "source": [
    "Solving the following system of equations we see that:\n",
    "\n",
    "$$\n",
    "\\alpha^\\mathrm{max} = G[\\alpha + J^\\mathrm{bias}] \\Rightarrow G^{-1}[\\alpha^\\mathrm{max}]=a+J^\\mathrm{bias} \\text{ (1)}\n",
    "$$\n",
    "\n",
    "and\n",
    "\n",
    "$$\n",
    "0 = G[\\alpha \\xi + J^\\mathrm{bias}] \\Rightarrow G^{-1}[0]=\\alpha \\xi +J^\\mathrm{bias} \\text{ (2)}\n",
    "$$\n",
    "\n",
    "from (2) it follows that\n",
    "\n",
    "$$\n",
    "J^\\mathrm{bias}=G^{-1}[0]-\\alpha \\xi \\text{ (3)}\n",
    "$$\n",
    "\n",
    "then plugging (3) into (1) we see that\n",
    "\n",
    "$$\n",
    "G^{-1}[a^\\mathrm{max}]=\\alpha+G^{-1}[0]-\\alpha \\xi \\text{ (4)}\n",
    "$$\n",
    "\n",
    "Re-arranging (4) we can find an equation for $\\alpha$ as follows\n",
    "\n",
    "$$\n",
    "\\alpha = \\frac{G^{-1}[a^\\mathrm{max}]-G^{-1}[0]}{1-\\xi} \\text{  (5)}\n",
    "$$\n",
    "\n",
    "and plugging (5) back into (3) we can find the following equation for $J^\\mathrm{bias}$\n",
    "\n",
    "$$\n",
    "J^\\mathrm{bias}=G^{-1}[0]-\\xi \\left\\{\\frac{G^{-1}[a^\\mathrm{max}]-G^{-1}[0]}{1-\\xi}\\right\\} \\text{ (6)}\n",
    "$$\n"
   ]
  },
  {
   "cell_type": "markdown",
   "metadata": {},
   "source": [
    "Now, simplify these equations for the specific case $G[J] = \\max(J, 0)$.\n"
   ]
  },
  {
   "cell_type": "markdown",
   "metadata": {},
   "source": [
    "When $G[J]=\\max(J,0)$ being the rectified linear rate approximation of a neuron then we know that for the case when $J \\gt J^{th}$ then $G[J]=J$, and is 0 otherwise. Using this information we can simplfy our equations for the gain and bias into the following:\n",
    "\n",
    "$$\n",
    "\\alpha^\\mathrm{max} = G[\\alpha + J^\\mathrm{bias}] \\Rightarrow \\alpha^\\mathrm{max}=\\alpha + J^\\mathrm{bias} \\text{ (7)}\n",
    "$$\n",
    "\n",
    "and\n",
    "\n",
    "$$\n",
    "0 = G[\\alpha \\xi + J^\\mathrm{bias}] \\Rightarrow 0=\\alpha \\xi +J^\\mathrm{bias} \\text{ (8)}\n",
    "$$\n",
    "\n",
    "Solving equations (7) and (8) we find that\n",
    "\n",
    "$$\n",
    "\\alpha=\\frac{\\alpha^\\mathrm{max}}{1-\\xi} \\text{ (9)}\n",
    "$$\n",
    "\n",
    "or\n",
    "\n",
    "$$\n",
    "\\alpha = \\frac{\\alpha^\\mathrm{max}}{|\\bold{e}-\\bold{x}|}\n",
    "$$\n",
    "\n",
    "where $\\bold{e}$ is the encoder sign and $x$ is the position. In the same sense, $J^\\mathrm{bias}$ can be expressed as\n",
    "\n",
    "$$\n",
    "J^\\mathrm{bias}=\\xi \\frac{\\alpha^\\mathrm{max}}{1-\\xi} \\text{ (10)}\n",
    "$$\n",
    "\n",
    "or\n",
    "\n",
    "$$\n",
    "J^\\mathrm{bias}=-\\alpha\\cdot\\langle\\bold{e},\\bold{x}\\rangle\n",
    "$$\n",
    "\n",
    "We also know that in the case of the ReLU rate approximation encoder, $J^{th}$ being the maximum current that results in a zero output rate corresponds directly with the $x-intercept$ $\\xi$\n"
   ]
  },
  {
   "cell_type": "markdown",
   "metadata": {},
   "source": [
    "**b) Neuron tuning curves.** Plot the neuron tuning curves $a_i(x)$ for 16 randomly generated neurons following the intercept and maximum rate distributions described above.\n"
   ]
  },
  {
   "cell_type": "code",
   "execution_count": 828,
   "metadata": {},
   "outputs": [],
   "source": [
    "number_of_neurons = 16"
   ]
  },
  {
   "cell_type": "markdown",
   "metadata": {},
   "source": [
    "Generate random $a^{max}$ uniformely distributed between 100Hz and 200Hz\n"
   ]
  },
  {
   "cell_type": "code",
   "execution_count": 829,
   "metadata": {},
   "outputs": [],
   "source": [
    "low_freq = 100 # Hz\n",
    "high_freq = 200 # Hz\n",
    "num_a_max_samples = number_of_neurons\n",
    "a_max_set = np.random.uniform(low_freq, high_freq, num_a_max_samples)"
   ]
  },
  {
   "cell_type": "markdown",
   "metadata": {},
   "source": [
    "Generate random $x-intercepts$ $\\xi$ uniformly distributed between -0.95 and 0.95"
   ]
  },
  {
   "cell_type": "code",
   "execution_count": 830,
   "metadata": {},
   "outputs": [],
   "source": [
    "min_intercept = -0.95\n",
    "max_intercept = 0.95\n",
    "num_intercepts = number_of_neurons\n",
    "intercept_set = np.random.uniform(min_intercept, max_intercept, num_intercepts)"
   ]
  },
  {
   "cell_type": "code",
   "execution_count": 831,
   "metadata": {},
   "outputs": [],
   "source": [
    "def gain(a_max, x_intercept, encoder_sign):\n",
    "    return a_max / abs(encoder_sign - x_intercept)\n",
    "\n",
    "\n",
    "def bias(x_intercept, encoder_sign, gain):\n",
    "    return -(gain) * x_intercept * encoder_sign\n",
    "\n",
    "\n",
    "def relu_encode(neuron, x):\n",
    "    rate = max(neuron.a * x * neuron.encoder_sign + neuron.j_bias, 0)\n",
    "    return rate\n",
    "\n",
    "def print_block(title,data):\n",
    "    print(title+\" ----------\")\n",
    "    print(data)\n",
    "    print(\"-----------------\")\n",
    "\n",
    "\n",
    "class Neuron:\n",
    "    def __init__(self, a_max, x_intercept, id):\n",
    "        self.id = id\n",
    "        self.a_max = a_max\n",
    "        self.encoder_sign = np.random.choice([-1, 1])\n",
    "        a = gain(a_max, x_intercept, self.encoder_sign)\n",
    "        j_bias = bias(x_intercept, self.encoder_sign, a)\n",
    "        self.a = a\n",
    "        self.j_bias = j_bias\n",
    "        self.rate = []\n",
    "\n",
    "    def rate_at_point(self, x):\n",
    "        return relu_encode(self, x)\n",
    "\n",
    "    def find_rate(self, space):\n",
    "        for element in space:\n",
    "            self.rate.append(self.rate_at_point(element))\n",
    "\n",
    "    def print_details(self):\n",
    "        print(\"Neuron: --------------\")\n",
    "        print(\"id \" + str(self.id))\n",
    "        print(\"a_max \" + str(self.a_max))\n",
    "        print(\"gain \" + str(self.a))\n",
    "        print(\"bias \" + str(self.j_bias))\n",
    "        print(\"--------------\")\n",
    "\n",
    "\n",
    "# create array of neuron objects\n",
    "neurons = []\n",
    "for i in range(number_of_neurons):\n",
    "    neurons.append(Neuron(a_max_set[i], intercept_set[i], i))\n",
    "\n",
    "# create a linespace for us to plot\n",
    "space = np.linspace(-1, 1, 41)\n",
    "\n",
    "for neuron in neurons:\n",
    "    neuron.find_rate(space)"
   ]
  },
  {
   "cell_type": "markdown",
   "metadata": {},
   "source": [
    "Plot the ReLU encoder rates $a_i(x)$ over their input $x$"
   ]
  },
  {
   "cell_type": "code",
   "execution_count": 832,
   "metadata": {},
   "outputs": [
    {
     "data": {
      "image/svg+xml": "<?xml version=\"1.0\" encoding=\"utf-8\" standalone=\"no\"?>\n<!DOCTYPE svg PUBLIC \"-//W3C//DTD SVG 1.1//EN\"\n  \"http://www.w3.org/Graphics/SVG/1.1/DTD/svg11.dtd\">\n<svg xmlns:xlink=\"http://www.w3.org/1999/xlink\" width=\"388.965625pt\" height=\"290.99625pt\" viewBox=\"0 0 388.965625 290.99625\" xmlns=\"http://www.w3.org/2000/svg\" version=\"1.1\">\n <metadata>\n  <rdf:RDF xmlns:dc=\"http://purl.org/dc/elements/1.1/\" xmlns:cc=\"http://creativecommons.org/ns#\" xmlns:rdf=\"http://www.w3.org/1999/02/22-rdf-syntax-ns#\">\n   <cc:Work>\n    <dc:type rdf:resource=\"http://purl.org/dc/dcmitype/StillImage\"/>\n    <dc:date>2022-09-24T20:55:34.071566</dc:date>\n    <dc:format>image/svg+xml</dc:format>\n    <dc:creator>\n     <cc:Agent>\n      <dc:title>Matplotlib v3.6.0, https://matplotlib.org/</dc:title>\n     </cc:Agent>\n    </dc:creator>\n   </cc:Work>\n  </rdf:RDF>\n </metadata>\n <defs>\n  <style type=\"text/css\">*{stroke-linejoin: round; stroke-linecap: butt}</style>\n </defs>\n <g id=\"figure_1\">\n  <g id=\"patch_1\">\n   <path d=\"M 0 290.99625 \nL 388.965625 290.99625 \nL 388.965625 0 \nL 0 0 \nL 0 290.99625 \nz\n\" style=\"fill: none\"/>\n  </g>\n  <g id=\"axes_1\">\n   <g id=\"patch_2\">\n    <path d=\"M 46.965625 253.44 \nL 381.765625 253.44 \nL 381.765625 36 \nL 46.965625 36 \nz\n\" style=\"fill: #ffffff\"/>\n   </g>\n   <g id=\"matplotlib.axis_1\">\n    <g id=\"xtick_1\">\n     <g id=\"line2d_1\">\n      <defs>\n       <path id=\"m221589ff10\" d=\"M 0 0 \nL 0 3.5 \n\" style=\"stroke: #000000; stroke-width: 0.8\"/>\n      </defs>\n      <g>\n       <use xlink:href=\"#m221589ff10\" x=\"62.183807\" y=\"253.44\" style=\"stroke: #000000; stroke-width: 0.8\"/>\n      </g>\n     </g>\n     <g id=\"text_1\">\n      <!-- −1.00 -->\n      <g transform=\"translate(46.861151 268.038437) scale(0.1 -0.1)\">\n       <defs>\n        <path id=\"DejaVuSans-2212\" d=\"M 678 2272 \nL 4684 2272 \nL 4684 1741 \nL 678 1741 \nL 678 2272 \nz\n\" transform=\"scale(0.015625)\"/>\n        <path id=\"DejaVuSans-31\" d=\"M 794 531 \nL 1825 531 \nL 1825 4091 \nL 703 3866 \nL 703 4441 \nL 1819 4666 \nL 2450 4666 \nL 2450 531 \nL 3481 531 \nL 3481 0 \nL 794 0 \nL 794 531 \nz\n\" transform=\"scale(0.015625)\"/>\n        <path id=\"DejaVuSans-2e\" d=\"M 684 794 \nL 1344 794 \nL 1344 0 \nL 684 0 \nL 684 794 \nz\n\" transform=\"scale(0.015625)\"/>\n        <path id=\"DejaVuSans-30\" d=\"M 2034 4250 \nQ 1547 4250 1301 3770 \nQ 1056 3291 1056 2328 \nQ 1056 1369 1301 889 \nQ 1547 409 2034 409 \nQ 2525 409 2770 889 \nQ 3016 1369 3016 2328 \nQ 3016 3291 2770 3770 \nQ 2525 4250 2034 4250 \nz\nM 2034 4750 \nQ 2819 4750 3233 4129 \nQ 3647 3509 3647 2328 \nQ 3647 1150 3233 529 \nQ 2819 -91 2034 -91 \nQ 1250 -91 836 529 \nQ 422 1150 422 2328 \nQ 422 3509 836 4129 \nQ 1250 4750 2034 4750 \nz\n\" transform=\"scale(0.015625)\"/>\n       </defs>\n       <use xlink:href=\"#DejaVuSans-2212\"/>\n       <use xlink:href=\"#DejaVuSans-31\" x=\"83.789062\"/>\n       <use xlink:href=\"#DejaVuSans-2e\" x=\"147.412109\"/>\n       <use xlink:href=\"#DejaVuSans-30\" x=\"179.199219\"/>\n       <use xlink:href=\"#DejaVuSans-30\" x=\"242.822266\"/>\n      </g>\n     </g>\n    </g>\n    <g id=\"xtick_2\">\n     <g id=\"line2d_2\">\n      <g>\n       <use xlink:href=\"#m221589ff10\" x=\"100.229261\" y=\"253.44\" style=\"stroke: #000000; stroke-width: 0.8\"/>\n      </g>\n     </g>\n     <g id=\"text_2\">\n      <!-- −0.75 -->\n      <g transform=\"translate(84.906605 268.038437) scale(0.1 -0.1)\">\n       <defs>\n        <path id=\"DejaVuSans-37\" d=\"M 525 4666 \nL 3525 4666 \nL 3525 4397 \nL 1831 0 \nL 1172 0 \nL 2766 4134 \nL 525 4134 \nL 525 4666 \nz\n\" transform=\"scale(0.015625)\"/>\n        <path id=\"DejaVuSans-35\" d=\"M 691 4666 \nL 3169 4666 \nL 3169 4134 \nL 1269 4134 \nL 1269 2991 \nQ 1406 3038 1543 3061 \nQ 1681 3084 1819 3084 \nQ 2600 3084 3056 2656 \nQ 3513 2228 3513 1497 \nQ 3513 744 3044 326 \nQ 2575 -91 1722 -91 \nQ 1428 -91 1123 -41 \nQ 819 9 494 109 \nL 494 744 \nQ 775 591 1075 516 \nQ 1375 441 1709 441 \nQ 2250 441 2565 725 \nQ 2881 1009 2881 1497 \nQ 2881 1984 2565 2268 \nQ 2250 2553 1709 2553 \nQ 1456 2553 1204 2497 \nQ 953 2441 691 2322 \nL 691 4666 \nz\n\" transform=\"scale(0.015625)\"/>\n       </defs>\n       <use xlink:href=\"#DejaVuSans-2212\"/>\n       <use xlink:href=\"#DejaVuSans-30\" x=\"83.789062\"/>\n       <use xlink:href=\"#DejaVuSans-2e\" x=\"147.412109\"/>\n       <use xlink:href=\"#DejaVuSans-37\" x=\"179.199219\"/>\n       <use xlink:href=\"#DejaVuSans-35\" x=\"242.822266\"/>\n      </g>\n     </g>\n    </g>\n    <g id=\"xtick_3\">\n     <g id=\"line2d_3\">\n      <g>\n       <use xlink:href=\"#m221589ff10\" x=\"138.274716\" y=\"253.44\" style=\"stroke: #000000; stroke-width: 0.8\"/>\n      </g>\n     </g>\n     <g id=\"text_3\">\n      <!-- −0.50 -->\n      <g transform=\"translate(122.95206 268.038437) scale(0.1 -0.1)\">\n       <use xlink:href=\"#DejaVuSans-2212\"/>\n       <use xlink:href=\"#DejaVuSans-30\" x=\"83.789062\"/>\n       <use xlink:href=\"#DejaVuSans-2e\" x=\"147.412109\"/>\n       <use xlink:href=\"#DejaVuSans-35\" x=\"179.199219\"/>\n       <use xlink:href=\"#DejaVuSans-30\" x=\"242.822266\"/>\n      </g>\n     </g>\n    </g>\n    <g id=\"xtick_4\">\n     <g id=\"line2d_4\">\n      <g>\n       <use xlink:href=\"#m221589ff10\" x=\"176.32017\" y=\"253.44\" style=\"stroke: #000000; stroke-width: 0.8\"/>\n      </g>\n     </g>\n     <g id=\"text_4\">\n      <!-- −0.25 -->\n      <g transform=\"translate(160.997514 268.038437) scale(0.1 -0.1)\">\n       <defs>\n        <path id=\"DejaVuSans-32\" d=\"M 1228 531 \nL 3431 531 \nL 3431 0 \nL 469 0 \nL 469 531 \nQ 828 903 1448 1529 \nQ 2069 2156 2228 2338 \nQ 2531 2678 2651 2914 \nQ 2772 3150 2772 3378 \nQ 2772 3750 2511 3984 \nQ 2250 4219 1831 4219 \nQ 1534 4219 1204 4116 \nQ 875 4013 500 3803 \nL 500 4441 \nQ 881 4594 1212 4672 \nQ 1544 4750 1819 4750 \nQ 2544 4750 2975 4387 \nQ 3406 4025 3406 3419 \nQ 3406 3131 3298 2873 \nQ 3191 2616 2906 2266 \nQ 2828 2175 2409 1742 \nQ 1991 1309 1228 531 \nz\n\" transform=\"scale(0.015625)\"/>\n       </defs>\n       <use xlink:href=\"#DejaVuSans-2212\"/>\n       <use xlink:href=\"#DejaVuSans-30\" x=\"83.789062\"/>\n       <use xlink:href=\"#DejaVuSans-2e\" x=\"147.412109\"/>\n       <use xlink:href=\"#DejaVuSans-32\" x=\"179.199219\"/>\n       <use xlink:href=\"#DejaVuSans-35\" x=\"242.822266\"/>\n      </g>\n     </g>\n    </g>\n    <g id=\"xtick_5\">\n     <g id=\"line2d_5\">\n      <g>\n       <use xlink:href=\"#m221589ff10\" x=\"214.365625\" y=\"253.44\" style=\"stroke: #000000; stroke-width: 0.8\"/>\n      </g>\n     </g>\n     <g id=\"text_5\">\n      <!-- 0.00 -->\n      <g transform=\"translate(203.232813 268.038437) scale(0.1 -0.1)\">\n       <use xlink:href=\"#DejaVuSans-30\"/>\n       <use xlink:href=\"#DejaVuSans-2e\" x=\"63.623047\"/>\n       <use xlink:href=\"#DejaVuSans-30\" x=\"95.410156\"/>\n       <use xlink:href=\"#DejaVuSans-30\" x=\"159.033203\"/>\n      </g>\n     </g>\n    </g>\n    <g id=\"xtick_6\">\n     <g id=\"line2d_6\">\n      <g>\n       <use xlink:href=\"#m221589ff10\" x=\"252.41108\" y=\"253.44\" style=\"stroke: #000000; stroke-width: 0.8\"/>\n      </g>\n     </g>\n     <g id=\"text_6\">\n      <!-- 0.25 -->\n      <g transform=\"translate(241.278267 268.038437) scale(0.1 -0.1)\">\n       <use xlink:href=\"#DejaVuSans-30\"/>\n       <use xlink:href=\"#DejaVuSans-2e\" x=\"63.623047\"/>\n       <use xlink:href=\"#DejaVuSans-32\" x=\"95.410156\"/>\n       <use xlink:href=\"#DejaVuSans-35\" x=\"159.033203\"/>\n      </g>\n     </g>\n    </g>\n    <g id=\"xtick_7\">\n     <g id=\"line2d_7\">\n      <g>\n       <use xlink:href=\"#m221589ff10\" x=\"290.456534\" y=\"253.44\" style=\"stroke: #000000; stroke-width: 0.8\"/>\n      </g>\n     </g>\n     <g id=\"text_7\">\n      <!-- 0.50 -->\n      <g transform=\"translate(279.323722 268.038437) scale(0.1 -0.1)\">\n       <use xlink:href=\"#DejaVuSans-30\"/>\n       <use xlink:href=\"#DejaVuSans-2e\" x=\"63.623047\"/>\n       <use xlink:href=\"#DejaVuSans-35\" x=\"95.410156\"/>\n       <use xlink:href=\"#DejaVuSans-30\" x=\"159.033203\"/>\n      </g>\n     </g>\n    </g>\n    <g id=\"xtick_8\">\n     <g id=\"line2d_8\">\n      <g>\n       <use xlink:href=\"#m221589ff10\" x=\"328.501989\" y=\"253.44\" style=\"stroke: #000000; stroke-width: 0.8\"/>\n      </g>\n     </g>\n     <g id=\"text_8\">\n      <!-- 0.75 -->\n      <g transform=\"translate(317.369176 268.038437) scale(0.1 -0.1)\">\n       <use xlink:href=\"#DejaVuSans-30\"/>\n       <use xlink:href=\"#DejaVuSans-2e\" x=\"63.623047\"/>\n       <use xlink:href=\"#DejaVuSans-37\" x=\"95.410156\"/>\n       <use xlink:href=\"#DejaVuSans-35\" x=\"159.033203\"/>\n      </g>\n     </g>\n    </g>\n    <g id=\"xtick_9\">\n     <g id=\"line2d_9\">\n      <g>\n       <use xlink:href=\"#m221589ff10\" x=\"366.547443\" y=\"253.44\" style=\"stroke: #000000; stroke-width: 0.8\"/>\n      </g>\n     </g>\n     <g id=\"text_9\">\n      <!-- 1.00 -->\n      <g transform=\"translate(355.414631 268.038437) scale(0.1 -0.1)\">\n       <use xlink:href=\"#DejaVuSans-31\"/>\n       <use xlink:href=\"#DejaVuSans-2e\" x=\"63.623047\"/>\n       <use xlink:href=\"#DejaVuSans-30\" x=\"95.410156\"/>\n       <use xlink:href=\"#DejaVuSans-30\" x=\"159.033203\"/>\n      </g>\n     </g>\n    </g>\n    <g id=\"text_10\">\n     <!-- stimuli $x$ -->\n     <g transform=\"translate(193.015625 281.716562) scale(0.1 -0.1)\">\n      <defs>\n       <path id=\"DejaVuSans-73\" d=\"M 2834 3397 \nL 2834 2853 \nQ 2591 2978 2328 3040 \nQ 2066 3103 1784 3103 \nQ 1356 3103 1142 2972 \nQ 928 2841 928 2578 \nQ 928 2378 1081 2264 \nQ 1234 2150 1697 2047 \nL 1894 2003 \nQ 2506 1872 2764 1633 \nQ 3022 1394 3022 966 \nQ 3022 478 2636 193 \nQ 2250 -91 1575 -91 \nQ 1294 -91 989 -36 \nQ 684 19 347 128 \nL 347 722 \nQ 666 556 975 473 \nQ 1284 391 1588 391 \nQ 1994 391 2212 530 \nQ 2431 669 2431 922 \nQ 2431 1156 2273 1281 \nQ 2116 1406 1581 1522 \nL 1381 1569 \nQ 847 1681 609 1914 \nQ 372 2147 372 2553 \nQ 372 3047 722 3315 \nQ 1072 3584 1716 3584 \nQ 2034 3584 2315 3537 \nQ 2597 3491 2834 3397 \nz\n\" transform=\"scale(0.015625)\"/>\n       <path id=\"DejaVuSans-74\" d=\"M 1172 4494 \nL 1172 3500 \nL 2356 3500 \nL 2356 3053 \nL 1172 3053 \nL 1172 1153 \nQ 1172 725 1289 603 \nQ 1406 481 1766 481 \nL 2356 481 \nL 2356 0 \nL 1766 0 \nQ 1100 0 847 248 \nQ 594 497 594 1153 \nL 594 3053 \nL 172 3053 \nL 172 3500 \nL 594 3500 \nL 594 4494 \nL 1172 4494 \nz\n\" transform=\"scale(0.015625)\"/>\n       <path id=\"DejaVuSans-69\" d=\"M 603 3500 \nL 1178 3500 \nL 1178 0 \nL 603 0 \nL 603 3500 \nz\nM 603 4863 \nL 1178 4863 \nL 1178 4134 \nL 603 4134 \nL 603 4863 \nz\n\" transform=\"scale(0.015625)\"/>\n       <path id=\"DejaVuSans-6d\" d=\"M 3328 2828 \nQ 3544 3216 3844 3400 \nQ 4144 3584 4550 3584 \nQ 5097 3584 5394 3201 \nQ 5691 2819 5691 2113 \nL 5691 0 \nL 5113 0 \nL 5113 2094 \nQ 5113 2597 4934 2840 \nQ 4756 3084 4391 3084 \nQ 3944 3084 3684 2787 \nQ 3425 2491 3425 1978 \nL 3425 0 \nL 2847 0 \nL 2847 2094 \nQ 2847 2600 2669 2842 \nQ 2491 3084 2119 3084 \nQ 1678 3084 1418 2786 \nQ 1159 2488 1159 1978 \nL 1159 0 \nL 581 0 \nL 581 3500 \nL 1159 3500 \nL 1159 2956 \nQ 1356 3278 1631 3431 \nQ 1906 3584 2284 3584 \nQ 2666 3584 2933 3390 \nQ 3200 3197 3328 2828 \nz\n\" transform=\"scale(0.015625)\"/>\n       <path id=\"DejaVuSans-75\" d=\"M 544 1381 \nL 544 3500 \nL 1119 3500 \nL 1119 1403 \nQ 1119 906 1312 657 \nQ 1506 409 1894 409 \nQ 2359 409 2629 706 \nQ 2900 1003 2900 1516 \nL 2900 3500 \nL 3475 3500 \nL 3475 0 \nL 2900 0 \nL 2900 538 \nQ 2691 219 2414 64 \nQ 2138 -91 1772 -91 \nQ 1169 -91 856 284 \nQ 544 659 544 1381 \nz\nM 1991 3584 \nL 1991 3584 \nz\n\" transform=\"scale(0.015625)\"/>\n       <path id=\"DejaVuSans-6c\" d=\"M 603 4863 \nL 1178 4863 \nL 1178 0 \nL 603 0 \nL 603 4863 \nz\n\" transform=\"scale(0.015625)\"/>\n       <path id=\"DejaVuSans-20\" transform=\"scale(0.015625)\"/>\n       <path id=\"DejaVuSans-Oblique-78\" d=\"M 3841 3500 \nL 2234 1784 \nL 3219 0 \nL 2559 0 \nL 1819 1388 \nL 531 0 \nL -166 0 \nL 1556 1844 \nL 641 3500 \nL 1300 3500 \nL 1972 2234 \nL 3144 3500 \nL 3841 3500 \nz\n\" transform=\"scale(0.015625)\"/>\n      </defs>\n      <use xlink:href=\"#DejaVuSans-73\" transform=\"translate(0 0.015625)\"/>\n      <use xlink:href=\"#DejaVuSans-74\" transform=\"translate(52.099609 0.015625)\"/>\n      <use xlink:href=\"#DejaVuSans-69\" transform=\"translate(91.308594 0.015625)\"/>\n      <use xlink:href=\"#DejaVuSans-6d\" transform=\"translate(119.091797 0.015625)\"/>\n      <use xlink:href=\"#DejaVuSans-75\" transform=\"translate(216.503906 0.015625)\"/>\n      <use xlink:href=\"#DejaVuSans-6c\" transform=\"translate(279.882812 0.015625)\"/>\n      <use xlink:href=\"#DejaVuSans-69\" transform=\"translate(307.666016 0.015625)\"/>\n      <use xlink:href=\"#DejaVuSans-20\" transform=\"translate(335.449219 0.015625)\"/>\n      <use xlink:href=\"#DejaVuSans-Oblique-78\" transform=\"translate(367.236328 0.015625)\"/>\n     </g>\n    </g>\n   </g>\n   <g id=\"matplotlib.axis_2\">\n    <g id=\"ytick_1\">\n     <g id=\"line2d_10\">\n      <defs>\n       <path id=\"m1fa8ccf371\" d=\"M 0 0 \nL -3.5 0 \n\" style=\"stroke: #000000; stroke-width: 0.8\"/>\n      </defs>\n      <g>\n       <use xlink:href=\"#m1fa8ccf371\" x=\"46.965625\" y=\"243.556364\" style=\"stroke: #000000; stroke-width: 0.8\"/>\n      </g>\n     </g>\n     <g id=\"text_11\">\n      <!-- 0 -->\n      <g transform=\"translate(33.603125 247.355582) scale(0.1 -0.1)\">\n       <use xlink:href=\"#DejaVuSans-30\"/>\n      </g>\n     </g>\n    </g>\n    <g id=\"ytick_2\">\n     <g id=\"line2d_11\">\n      <g>\n       <use xlink:href=\"#m1fa8ccf371\" x=\"46.965625\" y=\"218.531815\" style=\"stroke: #000000; stroke-width: 0.8\"/>\n      </g>\n     </g>\n     <g id=\"text_12\">\n      <!-- 25 -->\n      <g transform=\"translate(27.240625 222.331034) scale(0.1 -0.1)\">\n       <use xlink:href=\"#DejaVuSans-32\"/>\n       <use xlink:href=\"#DejaVuSans-35\" x=\"63.623047\"/>\n      </g>\n     </g>\n    </g>\n    <g id=\"ytick_3\">\n     <g id=\"line2d_12\">\n      <g>\n       <use xlink:href=\"#m1fa8ccf371\" x=\"46.965625\" y=\"193.507266\" style=\"stroke: #000000; stroke-width: 0.8\"/>\n      </g>\n     </g>\n     <g id=\"text_13\">\n      <!-- 50 -->\n      <g transform=\"translate(27.240625 197.306485) scale(0.1 -0.1)\">\n       <use xlink:href=\"#DejaVuSans-35\"/>\n       <use xlink:href=\"#DejaVuSans-30\" x=\"63.623047\"/>\n      </g>\n     </g>\n    </g>\n    <g id=\"ytick_4\">\n     <g id=\"line2d_13\">\n      <g>\n       <use xlink:href=\"#m1fa8ccf371\" x=\"46.965625\" y=\"168.482718\" style=\"stroke: #000000; stroke-width: 0.8\"/>\n      </g>\n     </g>\n     <g id=\"text_14\">\n      <!-- 75 -->\n      <g transform=\"translate(27.240625 172.281937) scale(0.1 -0.1)\">\n       <use xlink:href=\"#DejaVuSans-37\"/>\n       <use xlink:href=\"#DejaVuSans-35\" x=\"63.623047\"/>\n      </g>\n     </g>\n    </g>\n    <g id=\"ytick_5\">\n     <g id=\"line2d_14\">\n      <g>\n       <use xlink:href=\"#m1fa8ccf371\" x=\"46.965625\" y=\"143.458169\" style=\"stroke: #000000; stroke-width: 0.8\"/>\n      </g>\n     </g>\n     <g id=\"text_15\">\n      <!-- 100 -->\n      <g transform=\"translate(20.878125 147.257388) scale(0.1 -0.1)\">\n       <use xlink:href=\"#DejaVuSans-31\"/>\n       <use xlink:href=\"#DejaVuSans-30\" x=\"63.623047\"/>\n       <use xlink:href=\"#DejaVuSans-30\" x=\"127.246094\"/>\n      </g>\n     </g>\n    </g>\n    <g id=\"ytick_6\">\n     <g id=\"line2d_15\">\n      <g>\n       <use xlink:href=\"#m1fa8ccf371\" x=\"46.965625\" y=\"118.433621\" style=\"stroke: #000000; stroke-width: 0.8\"/>\n      </g>\n     </g>\n     <g id=\"text_16\">\n      <!-- 125 -->\n      <g transform=\"translate(20.878125 122.23284) scale(0.1 -0.1)\">\n       <use xlink:href=\"#DejaVuSans-31\"/>\n       <use xlink:href=\"#DejaVuSans-32\" x=\"63.623047\"/>\n       <use xlink:href=\"#DejaVuSans-35\" x=\"127.246094\"/>\n      </g>\n     </g>\n    </g>\n    <g id=\"ytick_7\">\n     <g id=\"line2d_16\">\n      <g>\n       <use xlink:href=\"#m1fa8ccf371\" x=\"46.965625\" y=\"93.409072\" style=\"stroke: #000000; stroke-width: 0.8\"/>\n      </g>\n     </g>\n     <g id=\"text_17\">\n      <!-- 150 -->\n      <g transform=\"translate(20.878125 97.208291) scale(0.1 -0.1)\">\n       <use xlink:href=\"#DejaVuSans-31\"/>\n       <use xlink:href=\"#DejaVuSans-35\" x=\"63.623047\"/>\n       <use xlink:href=\"#DejaVuSans-30\" x=\"127.246094\"/>\n      </g>\n     </g>\n    </g>\n    <g id=\"ytick_8\">\n     <g id=\"line2d_17\">\n      <g>\n       <use xlink:href=\"#m1fa8ccf371\" x=\"46.965625\" y=\"68.384524\" style=\"stroke: #000000; stroke-width: 0.8\"/>\n      </g>\n     </g>\n     <g id=\"text_18\">\n      <!-- 175 -->\n      <g transform=\"translate(20.878125 72.183742) scale(0.1 -0.1)\">\n       <use xlink:href=\"#DejaVuSans-31\"/>\n       <use xlink:href=\"#DejaVuSans-37\" x=\"63.623047\"/>\n       <use xlink:href=\"#DejaVuSans-35\" x=\"127.246094\"/>\n      </g>\n     </g>\n    </g>\n    <g id=\"ytick_9\">\n     <g id=\"line2d_18\">\n      <g>\n       <use xlink:href=\"#m1fa8ccf371\" x=\"46.965625\" y=\"43.359975\" style=\"stroke: #000000; stroke-width: 0.8\"/>\n      </g>\n     </g>\n     <g id=\"text_19\">\n      <!-- 200 -->\n      <g transform=\"translate(20.878125 47.159194) scale(0.1 -0.1)\">\n       <use xlink:href=\"#DejaVuSans-32\"/>\n       <use xlink:href=\"#DejaVuSans-30\" x=\"63.623047\"/>\n       <use xlink:href=\"#DejaVuSans-30\" x=\"127.246094\"/>\n      </g>\n     </g>\n    </g>\n    <g id=\"text_20\">\n     <!-- rate $a_i(x)$ Hz -->\n     <g transform=\"translate(14.798438 175.52) rotate(-90) scale(0.1 -0.1)\">\n      <defs>\n       <path id=\"DejaVuSans-72\" d=\"M 2631 2963 \nQ 2534 3019 2420 3045 \nQ 2306 3072 2169 3072 \nQ 1681 3072 1420 2755 \nQ 1159 2438 1159 1844 \nL 1159 0 \nL 581 0 \nL 581 3500 \nL 1159 3500 \nL 1159 2956 \nQ 1341 3275 1631 3429 \nQ 1922 3584 2338 3584 \nQ 2397 3584 2469 3576 \nQ 2541 3569 2628 3553 \nL 2631 2963 \nz\n\" transform=\"scale(0.015625)\"/>\n       <path id=\"DejaVuSans-61\" d=\"M 2194 1759 \nQ 1497 1759 1228 1600 \nQ 959 1441 959 1056 \nQ 959 750 1161 570 \nQ 1363 391 1709 391 \nQ 2188 391 2477 730 \nQ 2766 1069 2766 1631 \nL 2766 1759 \nL 2194 1759 \nz\nM 3341 1997 \nL 3341 0 \nL 2766 0 \nL 2766 531 \nQ 2569 213 2275 61 \nQ 1981 -91 1556 -91 \nQ 1019 -91 701 211 \nQ 384 513 384 1019 \nQ 384 1609 779 1909 \nQ 1175 2209 1959 2209 \nL 2766 2209 \nL 2766 2266 \nQ 2766 2663 2505 2880 \nQ 2244 3097 1772 3097 \nQ 1472 3097 1187 3025 \nQ 903 2953 641 2809 \nL 641 3341 \nQ 956 3463 1253 3523 \nQ 1550 3584 1831 3584 \nQ 2591 3584 2966 3190 \nQ 3341 2797 3341 1997 \nz\n\" transform=\"scale(0.015625)\"/>\n       <path id=\"DejaVuSans-65\" d=\"M 3597 1894 \nL 3597 1613 \nL 953 1613 \nQ 991 1019 1311 708 \nQ 1631 397 2203 397 \nQ 2534 397 2845 478 \nQ 3156 559 3463 722 \nL 3463 178 \nQ 3153 47 2828 -22 \nQ 2503 -91 2169 -91 \nQ 1331 -91 842 396 \nQ 353 884 353 1716 \nQ 353 2575 817 3079 \nQ 1281 3584 2069 3584 \nQ 2775 3584 3186 3129 \nQ 3597 2675 3597 1894 \nz\nM 3022 2063 \nQ 3016 2534 2758 2815 \nQ 2500 3097 2075 3097 \nQ 1594 3097 1305 2825 \nQ 1016 2553 972 2059 \nL 3022 2063 \nz\n\" transform=\"scale(0.015625)\"/>\n       <path id=\"DejaVuSans-Oblique-61\" d=\"M 3438 1997 \nL 3047 0 \nL 2472 0 \nL 2578 531 \nQ 2325 219 2001 64 \nQ 1678 -91 1281 -91 \nQ 834 -91 548 182 \nQ 263 456 263 884 \nQ 263 1497 752 1853 \nQ 1241 2209 2100 2209 \nL 2900 2209 \nL 2931 2363 \nQ 2938 2388 2941 2417 \nQ 2944 2447 2944 2509 \nQ 2944 2788 2717 2942 \nQ 2491 3097 2081 3097 \nQ 1800 3097 1504 3025 \nQ 1209 2953 897 2809 \nL 997 3341 \nQ 1322 3463 1633 3523 \nQ 1944 3584 2234 3584 \nQ 2853 3584 3176 3315 \nQ 3500 3047 3500 2534 \nQ 3500 2431 3484 2292 \nQ 3469 2153 3438 1997 \nz\nM 2816 1759 \nL 2241 1759 \nQ 1534 1759 1195 1570 \nQ 856 1381 856 984 \nQ 856 709 1029 553 \nQ 1203 397 1509 397 \nQ 1978 397 2328 733 \nQ 2678 1069 2791 1631 \nL 2816 1759 \nz\n\" transform=\"scale(0.015625)\"/>\n       <path id=\"DejaVuSans-Oblique-69\" d=\"M 1172 4863 \nL 1747 4863 \nL 1606 4134 \nL 1031 4134 \nL 1172 4863 \nz\nM 909 3500 \nL 1484 3500 \nL 800 0 \nL 225 0 \nL 909 3500 \nz\n\" transform=\"scale(0.015625)\"/>\n       <path id=\"DejaVuSans-28\" d=\"M 1984 4856 \nQ 1566 4138 1362 3434 \nQ 1159 2731 1159 2009 \nQ 1159 1288 1364 580 \nQ 1569 -128 1984 -844 \nL 1484 -844 \nQ 1016 -109 783 600 \nQ 550 1309 550 2009 \nQ 550 2706 781 3412 \nQ 1013 4119 1484 4856 \nL 1984 4856 \nz\n\" transform=\"scale(0.015625)\"/>\n       <path id=\"DejaVuSans-29\" d=\"M 513 4856 \nL 1013 4856 \nQ 1481 4119 1714 3412 \nQ 1947 2706 1947 2009 \nQ 1947 1309 1714 600 \nQ 1481 -109 1013 -844 \nL 513 -844 \nQ 928 -128 1133 580 \nQ 1338 1288 1338 2009 \nQ 1338 2731 1133 3434 \nQ 928 4138 513 4856 \nz\n\" transform=\"scale(0.015625)\"/>\n       <path id=\"DejaVuSans-48\" d=\"M 628 4666 \nL 1259 4666 \nL 1259 2753 \nL 3553 2753 \nL 3553 4666 \nL 4184 4666 \nL 4184 0 \nL 3553 0 \nL 3553 2222 \nL 1259 2222 \nL 1259 0 \nL 628 0 \nL 628 4666 \nz\n\" transform=\"scale(0.015625)\"/>\n       <path id=\"DejaVuSans-7a\" d=\"M 353 3500 \nL 3084 3500 \nL 3084 2975 \nL 922 459 \nL 3084 459 \nL 3084 0 \nL 275 0 \nL 275 525 \nL 2438 3041 \nL 353 3041 \nL 353 3500 \nz\n\" transform=\"scale(0.015625)\"/>\n      </defs>\n      <use xlink:href=\"#DejaVuSans-72\" transform=\"translate(0 0.125)\"/>\n      <use xlink:href=\"#DejaVuSans-61\" transform=\"translate(41.113281 0.125)\"/>\n      <use xlink:href=\"#DejaVuSans-74\" transform=\"translate(102.392578 0.125)\"/>\n      <use xlink:href=\"#DejaVuSans-65\" transform=\"translate(141.601562 0.125)\"/>\n      <use xlink:href=\"#DejaVuSans-20\" transform=\"translate(203.125 0.125)\"/>\n      <use xlink:href=\"#DejaVuSans-Oblique-61\" transform=\"translate(234.912109 0.125)\"/>\n      <use xlink:href=\"#DejaVuSans-Oblique-69\" transform=\"translate(296.191406 -16.28125) scale(0.7)\"/>\n      <use xlink:href=\"#DejaVuSans-28\" transform=\"translate(318.374023 0.125)\"/>\n      <use xlink:href=\"#DejaVuSans-Oblique-78\" transform=\"translate(357.387695 0.125)\"/>\n      <use xlink:href=\"#DejaVuSans-29\" transform=\"translate(416.567383 0.125)\"/>\n      <use xlink:href=\"#DejaVuSans-20\" transform=\"translate(455.581055 0.125)\"/>\n      <use xlink:href=\"#DejaVuSans-48\" transform=\"translate(487.368164 0.125)\"/>\n      <use xlink:href=\"#DejaVuSans-7a\" transform=\"translate(562.563477 0.125)\"/>\n     </g>\n    </g>\n   </g>\n   <g id=\"line2d_19\">\n    <path d=\"M 62.183807 243.556364 \nL 69.792898 243.556364 \nL 77.401989 243.556364 \nL 85.01108 243.556364 \nL 92.62017 243.556364 \nL 100.229261 243.556364 \nL 107.838352 243.556364 \nL 115.447443 243.556364 \nL 123.056534 243.556364 \nL 130.665625 243.556364 \nL 138.274716 243.556364 \nL 145.883807 243.556364 \nL 153.492898 243.556364 \nL 161.101989 243.556364 \nL 168.71108 243.556364 \nL 176.32017 243.556364 \nL 183.929261 243.556364 \nL 191.538352 243.556364 \nL 199.147443 243.556364 \nL 206.756534 242.113017 \nL 214.365625 235.093577 \nL 221.974716 228.074137 \nL 229.583807 221.054697 \nL 237.192898 214.035257 \nL 244.801989 207.015817 \nL 252.41108 199.996377 \nL 260.02017 192.976937 \nL 267.629261 185.957497 \nL 275.238352 178.938057 \nL 282.847443 171.918617 \nL 290.456534 164.899176 \nL 298.065625 157.879736 \nL 305.674716 150.860296 \nL 313.283807 143.840856 \nL 320.892898 136.821416 \nL 328.501989 129.801976 \nL 336.11108 122.782536 \nL 343.72017 115.763096 \nL 351.329261 108.743656 \nL 358.938352 101.724216 \nL 366.547443 94.704776 \n\" clip-path=\"url(#pa7830464c8)\" style=\"fill: none; stroke: #1f77b4; stroke-width: 1.5; stroke-linecap: square\"/>\n   </g>\n   <g id=\"line2d_20\">\n    <path d=\"M 62.183807 243.556364 \nL 69.792898 243.556364 \nL 77.401989 243.556364 \nL 85.01108 243.556364 \nL 92.62017 243.556364 \nL 100.229261 243.556364 \nL 107.838352 243.556364 \nL 115.447443 243.556364 \nL 123.056534 243.556364 \nL 130.665625 243.556364 \nL 138.274716 243.556364 \nL 145.883807 243.556364 \nL 153.492898 243.556364 \nL 161.101989 243.556364 \nL 168.71108 243.556364 \nL 176.32017 243.556364 \nL 183.929261 243.556364 \nL 191.538352 243.556364 \nL 199.147443 243.556364 \nL 206.756534 243.556364 \nL 214.365625 238.497822 \nL 221.974716 228.867113 \nL 229.583807 219.236403 \nL 237.192898 209.605694 \nL 244.801989 199.974985 \nL 252.41108 190.344275 \nL 260.02017 180.713566 \nL 267.629261 171.082857 \nL 275.238352 161.452148 \nL 282.847443 151.821438 \nL 290.456534 142.190729 \nL 298.065625 132.56002 \nL 305.674716 122.929311 \nL 313.283807 113.298601 \nL 320.892898 103.667892 \nL 328.501989 94.037183 \nL 336.11108 84.406473 \nL 343.72017 74.775764 \nL 351.329261 65.145055 \nL 358.938352 55.514346 \nL 366.547443 45.883636 \n\" clip-path=\"url(#pa7830464c8)\" style=\"fill: none; stroke: #ff7f0e; stroke-width: 1.5; stroke-linecap: square\"/>\n   </g>\n   <g id=\"line2d_21\">\n    <path d=\"M 62.183807 78.295706 \nL 69.792898 90.959493 \nL 77.401989 103.623281 \nL 85.01108 116.287068 \nL 92.62017 128.950855 \nL 100.229261 141.614643 \nL 107.838352 154.27843 \nL 115.447443 166.942217 \nL 123.056534 179.606004 \nL 130.665625 192.269792 \nL 138.274716 204.933579 \nL 145.883807 217.597366 \nL 153.492898 230.261154 \nL 161.101989 242.924941 \nL 168.71108 243.556364 \nL 176.32017 243.556364 \nL 183.929261 243.556364 \nL 191.538352 243.556364 \nL 199.147443 243.556364 \nL 206.756534 243.556364 \nL 214.365625 243.556364 \nL 221.974716 243.556364 \nL 229.583807 243.556364 \nL 237.192898 243.556364 \nL 244.801989 243.556364 \nL 252.41108 243.556364 \nL 260.02017 243.556364 \nL 267.629261 243.556364 \nL 275.238352 243.556364 \nL 282.847443 243.556364 \nL 290.456534 243.556364 \nL 298.065625 243.556364 \nL 305.674716 243.556364 \nL 313.283807 243.556364 \nL 320.892898 243.556364 \nL 328.501989 243.556364 \nL 336.11108 243.556364 \nL 343.72017 243.556364 \nL 351.329261 243.556364 \nL 358.938352 243.556364 \nL 366.547443 243.556364 \n\" clip-path=\"url(#pa7830464c8)\" style=\"fill: none; stroke: #2ca02c; stroke-width: 1.5; stroke-linecap: square\"/>\n   </g>\n   <g id=\"line2d_22\">\n    <path d=\"M 62.183807 63.590063 \nL 69.792898 69.494602 \nL 77.401989 75.399141 \nL 85.01108 81.30368 \nL 92.62017 87.208219 \nL 100.229261 93.112758 \nL 107.838352 99.017297 \nL 115.447443 104.921836 \nL 123.056534 110.826375 \nL 130.665625 116.730914 \nL 138.274716 122.635453 \nL 145.883807 128.539992 \nL 153.492898 134.444531 \nL 161.101989 140.349069 \nL 168.71108 146.253608 \nL 176.32017 152.158147 \nL 183.929261 158.062686 \nL 191.538352 163.967225 \nL 199.147443 169.871764 \nL 206.756534 175.776303 \nL 214.365625 181.680842 \nL 221.974716 187.585381 \nL 229.583807 193.48992 \nL 237.192898 199.394459 \nL 244.801989 205.298998 \nL 252.41108 211.203537 \nL 260.02017 217.108076 \nL 267.629261 223.012615 \nL 275.238352 228.917154 \nL 282.847443 234.821693 \nL 290.456534 240.726232 \nL 298.065625 243.556364 \nL 305.674716 243.556364 \nL 313.283807 243.556364 \nL 320.892898 243.556364 \nL 328.501989 243.556364 \nL 336.11108 243.556364 \nL 343.72017 243.556364 \nL 351.329261 243.556364 \nL 358.938352 243.556364 \nL 366.547443 243.556364 \n\" clip-path=\"url(#pa7830464c8)\" style=\"fill: none; stroke: #d62728; stroke-width: 1.5; stroke-linecap: square\"/>\n   </g>\n   <g id=\"line2d_23\">\n    <path d=\"M 62.183807 243.556364 \nL 69.792898 243.556364 \nL 77.401989 243.556364 \nL 85.01108 243.556364 \nL 92.62017 243.556364 \nL 100.229261 243.556364 \nL 107.838352 242.136425 \nL 115.447443 236.561475 \nL 123.056534 230.986525 \nL 130.665625 225.411575 \nL 138.274716 219.836624 \nL 145.883807 214.261674 \nL 153.492898 208.686724 \nL 161.101989 203.111774 \nL 168.71108 197.536824 \nL 176.32017 191.961873 \nL 183.929261 186.386923 \nL 191.538352 180.811973 \nL 199.147443 175.237023 \nL 206.756534 169.662072 \nL 214.365625 164.087122 \nL 221.974716 158.512172 \nL 229.583807 152.937222 \nL 237.192898 147.362271 \nL 244.801989 141.787321 \nL 252.41108 136.212371 \nL 260.02017 130.637421 \nL 267.629261 125.06247 \nL 275.238352 119.48752 \nL 282.847443 113.91257 \nL 290.456534 108.33762 \nL 298.065625 102.762669 \nL 305.674716 97.187719 \nL 313.283807 91.612769 \nL 320.892898 86.037819 \nL 328.501989 80.462868 \nL 336.11108 74.887918 \nL 343.72017 69.312968 \nL 351.329261 63.738018 \nL 358.938352 58.163068 \nL 366.547443 52.588117 \n\" clip-path=\"url(#pa7830464c8)\" style=\"fill: none; stroke: #9467bd; stroke-width: 1.5; stroke-linecap: square\"/>\n   </g>\n   <g id=\"line2d_24\">\n    <path d=\"M 62.183807 243.556364 \nL 69.792898 243.556364 \nL 77.401989 243.556364 \nL 85.01108 243.556364 \nL 92.62017 243.556364 \nL 100.229261 243.556364 \nL 107.838352 243.556364 \nL 115.447443 243.556364 \nL 123.056534 243.556364 \nL 130.665625 243.556364 \nL 138.274716 243.556364 \nL 145.883807 243.556364 \nL 153.492898 243.556364 \nL 161.101989 243.556364 \nL 168.71108 243.556364 \nL 176.32017 243.556364 \nL 183.929261 243.556364 \nL 191.538352 238.737891 \nL 199.147443 233.427236 \nL 206.756534 228.116581 \nL 214.365625 222.805925 \nL 221.974716 217.49527 \nL 229.583807 212.184614 \nL 237.192898 206.873959 \nL 244.801989 201.563304 \nL 252.41108 196.252648 \nL 260.02017 190.941993 \nL 267.629261 185.631338 \nL 275.238352 180.320682 \nL 282.847443 175.010027 \nL 290.456534 169.699372 \nL 298.065625 164.388716 \nL 305.674716 159.078061 \nL 313.283807 153.767405 \nL 320.892898 148.45675 \nL 328.501989 143.146095 \nL 336.11108 137.835439 \nL 343.72017 132.524784 \nL 351.329261 127.214129 \nL 358.938352 121.903473 \nL 366.547443 116.592818 \n\" clip-path=\"url(#pa7830464c8)\" style=\"fill: none; stroke: #8c564b; stroke-width: 1.5; stroke-linecap: square\"/>\n   </g>\n   <g id=\"line2d_25\">\n    <path d=\"M 62.183807 243.556364 \nL 69.792898 243.556364 \nL 77.401989 243.556364 \nL 85.01108 243.556364 \nL 92.62017 243.556364 \nL 100.229261 243.556364 \nL 107.838352 243.556364 \nL 115.447443 243.556364 \nL 123.056534 243.556364 \nL 130.665625 243.556364 \nL 138.274716 243.556364 \nL 145.883807 243.556364 \nL 153.492898 243.556364 \nL 161.101989 243.556364 \nL 168.71108 243.556364 \nL 176.32017 243.556364 \nL 183.929261 243.556364 \nL 191.538352 243.556364 \nL 199.147443 243.556364 \nL 206.756534 243.556364 \nL 214.365625 243.556364 \nL 221.974716 243.556364 \nL 229.583807 243.556364 \nL 237.192898 243.556364 \nL 244.801989 243.556364 \nL 252.41108 243.556364 \nL 260.02017 243.556364 \nL 267.629261 243.556364 \nL 275.238352 243.556364 \nL 282.847443 238.924613 \nL 290.456534 221.387661 \nL 298.065625 203.850709 \nL 305.674716 186.313757 \nL 313.283807 168.776806 \nL 320.892898 151.239854 \nL 328.501989 133.702902 \nL 336.11108 116.16595 \nL 343.72017 98.628998 \nL 351.329261 81.092046 \nL 358.938352 63.555094 \nL 366.547443 46.018142 \n\" clip-path=\"url(#pa7830464c8)\" style=\"fill: none; stroke: #e377c2; stroke-width: 1.5; stroke-linecap: square\"/>\n   </g>\n   <g id=\"line2d_26\">\n    <path d=\"M 62.183807 243.556364 \nL 69.792898 243.556364 \nL 77.401989 241.699794 \nL 85.01108 237.992328 \nL 92.62017 234.284862 \nL 100.229261 230.577396 \nL 107.838352 226.86993 \nL 115.447443 223.162464 \nL 123.056534 219.454998 \nL 130.665625 215.747532 \nL 138.274716 212.040066 \nL 145.883807 208.3326 \nL 153.492898 204.625134 \nL 161.101989 200.917668 \nL 168.71108 197.210202 \nL 176.32017 193.502735 \nL 183.929261 189.795269 \nL 191.538352 186.087803 \nL 199.147443 182.380337 \nL 206.756534 178.672871 \nL 214.365625 174.965405 \nL 221.974716 171.257939 \nL 229.583807 167.550473 \nL 237.192898 163.843007 \nL 244.801989 160.135541 \nL 252.41108 156.428075 \nL 260.02017 152.720609 \nL 267.629261 149.013143 \nL 275.238352 145.305677 \nL 282.847443 141.59821 \nL 290.456534 137.890744 \nL 298.065625 134.183278 \nL 305.674716 130.475812 \nL 313.283807 126.768346 \nL 320.892898 123.06088 \nL 328.501989 119.353414 \nL 336.11108 115.645948 \nL 343.72017 111.938482 \nL 351.329261 108.231016 \nL 358.938352 104.52355 \nL 366.547443 100.816084 \n\" clip-path=\"url(#pa7830464c8)\" style=\"fill: none; stroke: #7f7f7f; stroke-width: 1.5; stroke-linecap: square\"/>\n   </g>\n   <g id=\"line2d_27\">\n    <path d=\"M 62.183807 104.666615 \nL 69.792898 109.004515 \nL 77.401989 113.342415 \nL 85.01108 117.680315 \nL 92.62017 122.018215 \nL 100.229261 126.356115 \nL 107.838352 130.694015 \nL 115.447443 135.031915 \nL 123.056534 139.369815 \nL 130.665625 143.707715 \nL 138.274716 148.045615 \nL 145.883807 152.383515 \nL 153.492898 156.721415 \nL 161.101989 161.059315 \nL 168.71108 165.397215 \nL 176.32017 169.735115 \nL 183.929261 174.073015 \nL 191.538352 178.410915 \nL 199.147443 182.748815 \nL 206.756534 187.086715 \nL 214.365625 191.424616 \nL 221.974716 195.762516 \nL 229.583807 200.100416 \nL 237.192898 204.438316 \nL 244.801989 208.776216 \nL 252.41108 213.114116 \nL 260.02017 217.452016 \nL 267.629261 221.789916 \nL 275.238352 226.127816 \nL 282.847443 230.465716 \nL 290.456534 234.803616 \nL 298.065625 239.141516 \nL 305.674716 243.479416 \nL 313.283807 243.556364 \nL 320.892898 243.556364 \nL 328.501989 243.556364 \nL 336.11108 243.556364 \nL 343.72017 243.556364 \nL 351.329261 243.556364 \nL 358.938352 243.556364 \nL 366.547443 243.556364 \n\" clip-path=\"url(#pa7830464c8)\" style=\"fill: none; stroke: #bcbd22; stroke-width: 1.5; stroke-linecap: square\"/>\n   </g>\n   <g id=\"line2d_28\">\n    <path d=\"M 62.183807 70.41051 \nL 69.792898 75.334544 \nL 77.401989 80.258578 \nL 85.01108 85.182613 \nL 92.62017 90.106647 \nL 100.229261 95.030681 \nL 107.838352 99.954716 \nL 115.447443 104.87875 \nL 123.056534 109.802784 \nL 130.665625 114.726818 \nL 138.274716 119.650853 \nL 145.883807 124.574887 \nL 153.492898 129.498921 \nL 161.101989 134.422956 \nL 168.71108 139.34699 \nL 176.32017 144.271024 \nL 183.929261 149.195058 \nL 191.538352 154.119093 \nL 199.147443 159.043127 \nL 206.756534 163.967161 \nL 214.365625 168.891196 \nL 221.974716 173.81523 \nL 229.583807 178.739264 \nL 237.192898 183.663298 \nL 244.801989 188.587333 \nL 252.41108 193.511367 \nL 260.02017 198.435401 \nL 267.629261 203.359436 \nL 275.238352 208.28347 \nL 282.847443 213.207504 \nL 290.456534 218.131538 \nL 298.065625 223.055573 \nL 305.674716 227.979607 \nL 313.283807 232.903641 \nL 320.892898 237.827676 \nL 328.501989 242.75171 \nL 336.11108 243.556364 \nL 343.72017 243.556364 \nL 351.329261 243.556364 \nL 358.938352 243.556364 \nL 366.547443 243.556364 \n\" clip-path=\"url(#pa7830464c8)\" style=\"fill: none; stroke: #17becf; stroke-width: 1.5; stroke-linecap: square\"/>\n   </g>\n   <g id=\"line2d_29\">\n    <path d=\"M 62.183807 86.174255 \nL 69.792898 92.031347 \nL 77.401989 97.888439 \nL 85.01108 103.745531 \nL 92.62017 109.602623 \nL 100.229261 115.459714 \nL 107.838352 121.316806 \nL 115.447443 127.173898 \nL 123.056534 133.03099 \nL 130.665625 138.888082 \nL 138.274716 144.745173 \nL 145.883807 150.602265 \nL 153.492898 156.459357 \nL 161.101989 162.316449 \nL 168.71108 168.173541 \nL 176.32017 174.030633 \nL 183.929261 179.887724 \nL 191.538352 185.744816 \nL 199.147443 191.601908 \nL 206.756534 197.459 \nL 214.365625 203.316092 \nL 221.974716 209.173183 \nL 229.583807 215.030275 \nL 237.192898 220.887367 \nL 244.801989 226.744459 \nL 252.41108 232.601551 \nL 260.02017 238.458642 \nL 267.629261 243.556364 \nL 275.238352 243.556364 \nL 282.847443 243.556364 \nL 290.456534 243.556364 \nL 298.065625 243.556364 \nL 305.674716 243.556364 \nL 313.283807 243.556364 \nL 320.892898 243.556364 \nL 328.501989 243.556364 \nL 336.11108 243.556364 \nL 343.72017 243.556364 \nL 351.329261 243.556364 \nL 358.938352 243.556364 \nL 366.547443 243.556364 \n\" clip-path=\"url(#pa7830464c8)\" style=\"fill: none; stroke: #1f77b4; stroke-width: 1.5; stroke-linecap: square\"/>\n   </g>\n   <g id=\"line2d_30\">\n    <path d=\"M 62.183807 66.614647 \nL 69.792898 73.152887 \nL 77.401989 79.691128 \nL 85.01108 86.229368 \nL 92.62017 92.767608 \nL 100.229261 99.305849 \nL 107.838352 105.844089 \nL 115.447443 112.382329 \nL 123.056534 118.92057 \nL 130.665625 125.45881 \nL 138.274716 131.99705 \nL 145.883807 138.535291 \nL 153.492898 145.073531 \nL 161.101989 151.611771 \nL 168.71108 158.150012 \nL 176.32017 164.688252 \nL 183.929261 171.226493 \nL 191.538352 177.764733 \nL 199.147443 184.302973 \nL 206.756534 190.841214 \nL 214.365625 197.379454 \nL 221.974716 203.917694 \nL 229.583807 210.455935 \nL 237.192898 216.994175 \nL 244.801989 223.532415 \nL 252.41108 230.070656 \nL 260.02017 236.608896 \nL 267.629261 243.147137 \nL 275.238352 243.556364 \nL 282.847443 243.556364 \nL 290.456534 243.556364 \nL 298.065625 243.556364 \nL 305.674716 243.556364 \nL 313.283807 243.556364 \nL 320.892898 243.556364 \nL 328.501989 243.556364 \nL 336.11108 243.556364 \nL 343.72017 243.556364 \nL 351.329261 243.556364 \nL 358.938352 243.556364 \nL 366.547443 243.556364 \n\" clip-path=\"url(#pa7830464c8)\" style=\"fill: none; stroke: #ff7f0e; stroke-width: 1.5; stroke-linecap: square\"/>\n   </g>\n   <g id=\"line2d_31\">\n    <path d=\"M 62.183807 243.556364 \nL 69.792898 243.556364 \nL 77.401989 243.556364 \nL 85.01108 243.556364 \nL 92.62017 243.556364 \nL 100.229261 243.556364 \nL 107.838352 243.556364 \nL 115.447443 243.556364 \nL 123.056534 243.556364 \nL 130.665625 243.556364 \nL 138.274716 243.556364 \nL 145.883807 243.556364 \nL 153.492898 243.556364 \nL 161.101989 243.556364 \nL 168.71108 243.556364 \nL 176.32017 239.91136 \nL 183.929261 234.281034 \nL 191.538352 228.650709 \nL 199.147443 223.020383 \nL 206.756534 217.390057 \nL 214.365625 211.759731 \nL 221.974716 206.129406 \nL 229.583807 200.49908 \nL 237.192898 194.868754 \nL 244.801989 189.238429 \nL 252.41108 183.608103 \nL 260.02017 177.977777 \nL 267.629261 172.347452 \nL 275.238352 166.717126 \nL 282.847443 161.0868 \nL 290.456534 155.456475 \nL 298.065625 149.826149 \nL 305.674716 144.195823 \nL 313.283807 138.565498 \nL 320.892898 132.935172 \nL 328.501989 127.304846 \nL 336.11108 121.674521 \nL 343.72017 116.044195 \nL 351.329261 110.413869 \nL 358.938352 104.783544 \nL 366.547443 99.153218 \n\" clip-path=\"url(#pa7830464c8)\" style=\"fill: none; stroke: #2ca02c; stroke-width: 1.5; stroke-linecap: square\"/>\n   </g>\n   <g id=\"line2d_32\">\n    <path d=\"M 62.183807 243.556364 \nL 69.792898 243.556364 \nL 77.401989 243.556364 \nL 85.01108 243.556364 \nL 92.62017 243.556364 \nL 100.229261 243.556364 \nL 107.838352 243.556364 \nL 115.447443 243.556364 \nL 123.056534 243.556364 \nL 130.665625 243.556364 \nL 138.274716 243.556364 \nL 145.883807 243.556364 \nL 153.492898 243.556364 \nL 161.101989 243.556364 \nL 168.71108 243.556364 \nL 176.32017 243.556364 \nL 183.929261 243.556364 \nL 191.538352 243.556364 \nL 199.147443 243.556364 \nL 206.756534 243.556364 \nL 214.365625 243.556364 \nL 221.974716 243.556364 \nL 229.583807 243.556364 \nL 237.192898 243.556364 \nL 244.801989 243.556364 \nL 252.41108 243.556364 \nL 260.02017 243.556364 \nL 267.629261 243.556364 \nL 275.238352 243.556364 \nL 282.847443 233.937653 \nL 290.456534 217.104636 \nL 298.065625 200.271619 \nL 305.674716 183.438603 \nL 313.283807 166.605586 \nL 320.892898 149.772569 \nL 328.501989 132.939553 \nL 336.11108 116.106536 \nL 343.72017 99.27352 \nL 351.329261 82.440503 \nL 358.938352 65.607486 \nL 366.547443 48.77447 \n\" clip-path=\"url(#pa7830464c8)\" style=\"fill: none; stroke: #d62728; stroke-width: 1.5; stroke-linecap: square\"/>\n   </g>\n   <g id=\"line2d_33\">\n    <path d=\"M 62.183807 243.556364 \nL 69.792898 243.556364 \nL 77.401989 243.556364 \nL 85.01108 243.556364 \nL 92.62017 243.556364 \nL 100.229261 243.556364 \nL 107.838352 243.556364 \nL 115.447443 243.556364 \nL 123.056534 243.556364 \nL 130.665625 243.556364 \nL 138.274716 243.556364 \nL 145.883807 243.556364 \nL 153.492898 243.556364 \nL 161.101989 243.556364 \nL 168.71108 243.556364 \nL 176.32017 243.556364 \nL 183.929261 243.556364 \nL 191.538352 243.556364 \nL 199.147443 243.556364 \nL 206.756534 238.3992 \nL 214.365625 230.989625 \nL 221.974716 223.580051 \nL 229.583807 216.170477 \nL 237.192898 208.760903 \nL 244.801989 201.351328 \nL 252.41108 193.941754 \nL 260.02017 186.53218 \nL 267.629261 179.122606 \nL 275.238352 171.713031 \nL 282.847443 164.303457 \nL 290.456534 156.893883 \nL 298.065625 149.484309 \nL 305.674716 142.074735 \nL 313.283807 134.66516 \nL 320.892898 127.255586 \nL 328.501989 119.846012 \nL 336.11108 112.436438 \nL 343.72017 105.026863 \nL 351.329261 97.617289 \nL 358.938352 90.207715 \nL 366.547443 82.798141 \n\" clip-path=\"url(#pa7830464c8)\" style=\"fill: none; stroke: #9467bd; stroke-width: 1.5; stroke-linecap: square\"/>\n   </g>\n   <g id=\"line2d_34\">\n    <path d=\"M 62.183807 115.141273 \nL 69.792898 124.441351 \nL 77.401989 133.74143 \nL 85.01108 143.041509 \nL 92.62017 152.341587 \nL 100.229261 161.641666 \nL 107.838352 170.941745 \nL 115.447443 180.241823 \nL 123.056534 189.541902 \nL 130.665625 198.841981 \nL 138.274716 208.142059 \nL 145.883807 217.442138 \nL 153.492898 226.742217 \nL 161.101989 236.042296 \nL 168.71108 243.556364 \nL 176.32017 243.556364 \nL 183.929261 243.556364 \nL 191.538352 243.556364 \nL 199.147443 243.556364 \nL 206.756534 243.556364 \nL 214.365625 243.556364 \nL 221.974716 243.556364 \nL 229.583807 243.556364 \nL 237.192898 243.556364 \nL 244.801989 243.556364 \nL 252.41108 243.556364 \nL 260.02017 243.556364 \nL 267.629261 243.556364 \nL 275.238352 243.556364 \nL 282.847443 243.556364 \nL 290.456534 243.556364 \nL 298.065625 243.556364 \nL 305.674716 243.556364 \nL 313.283807 243.556364 \nL 320.892898 243.556364 \nL 328.501989 243.556364 \nL 336.11108 243.556364 \nL 343.72017 243.556364 \nL 351.329261 243.556364 \nL 358.938352 243.556364 \nL 366.547443 243.556364 \n\" clip-path=\"url(#pa7830464c8)\" style=\"fill: none; stroke: #8c564b; stroke-width: 1.5; stroke-linecap: square\"/>\n   </g>\n   <g id=\"patch_3\">\n    <path d=\"M 46.965625 253.44 \nL 46.965625 36 \n\" style=\"fill: none; stroke: #000000; stroke-width: 0.8; stroke-linejoin: miter; stroke-linecap: square\"/>\n   </g>\n   <g id=\"patch_4\">\n    <path d=\"M 381.765625 253.44 \nL 381.765625 36 \n\" style=\"fill: none; stroke: #000000; stroke-width: 0.8; stroke-linejoin: miter; stroke-linecap: square\"/>\n   </g>\n   <g id=\"patch_5\">\n    <path d=\"M 46.965625 253.44 \nL 381.765625 253.44 \n\" style=\"fill: none; stroke: #000000; stroke-width: 0.8; stroke-linejoin: miter; stroke-linecap: square\"/>\n   </g>\n   <g id=\"patch_6\">\n    <path d=\"M 46.965625 36 \nL 381.765625 36 \n\" style=\"fill: none; stroke: #000000; stroke-width: 0.8; stroke-linejoin: miter; stroke-linecap: square\"/>\n   </g>\n  </g>\n  <g id=\"text_21\">\n   <!-- Rectified Tuning Curves $a_{i=16}(x)$ versus stimuli $x$ -->\n   <g transform=\"translate(62.505625 16.32) scale(0.12 -0.12)\">\n    <defs>\n     <path id=\"DejaVuSans-52\" d=\"M 2841 2188 \nQ 3044 2119 3236 1894 \nQ 3428 1669 3622 1275 \nL 4263 0 \nL 3584 0 \nL 2988 1197 \nQ 2756 1666 2539 1819 \nQ 2322 1972 1947 1972 \nL 1259 1972 \nL 1259 0 \nL 628 0 \nL 628 4666 \nL 2053 4666 \nQ 2853 4666 3247 4331 \nQ 3641 3997 3641 3322 \nQ 3641 2881 3436 2590 \nQ 3231 2300 2841 2188 \nz\nM 1259 4147 \nL 1259 2491 \nL 2053 2491 \nQ 2509 2491 2742 2702 \nQ 2975 2913 2975 3322 \nQ 2975 3731 2742 3939 \nQ 2509 4147 2053 4147 \nL 1259 4147 \nz\n\" transform=\"scale(0.015625)\"/>\n     <path id=\"DejaVuSans-63\" d=\"M 3122 3366 \nL 3122 2828 \nQ 2878 2963 2633 3030 \nQ 2388 3097 2138 3097 \nQ 1578 3097 1268 2742 \nQ 959 2388 959 1747 \nQ 959 1106 1268 751 \nQ 1578 397 2138 397 \nQ 2388 397 2633 464 \nQ 2878 531 3122 666 \nL 3122 134 \nQ 2881 22 2623 -34 \nQ 2366 -91 2075 -91 \nQ 1284 -91 818 406 \nQ 353 903 353 1747 \nQ 353 2603 823 3093 \nQ 1294 3584 2113 3584 \nQ 2378 3584 2631 3529 \nQ 2884 3475 3122 3366 \nz\n\" transform=\"scale(0.015625)\"/>\n     <path id=\"DejaVuSans-66\" d=\"M 2375 4863 \nL 2375 4384 \nL 1825 4384 \nQ 1516 4384 1395 4259 \nQ 1275 4134 1275 3809 \nL 1275 3500 \nL 2222 3500 \nL 2222 3053 \nL 1275 3053 \nL 1275 0 \nL 697 0 \nL 697 3053 \nL 147 3053 \nL 147 3500 \nL 697 3500 \nL 697 3744 \nQ 697 4328 969 4595 \nQ 1241 4863 1831 4863 \nL 2375 4863 \nz\n\" transform=\"scale(0.015625)\"/>\n     <path id=\"DejaVuSans-64\" d=\"M 2906 2969 \nL 2906 4863 \nL 3481 4863 \nL 3481 0 \nL 2906 0 \nL 2906 525 \nQ 2725 213 2448 61 \nQ 2172 -91 1784 -91 \nQ 1150 -91 751 415 \nQ 353 922 353 1747 \nQ 353 2572 751 3078 \nQ 1150 3584 1784 3584 \nQ 2172 3584 2448 3432 \nQ 2725 3281 2906 2969 \nz\nM 947 1747 \nQ 947 1113 1208 752 \nQ 1469 391 1925 391 \nQ 2381 391 2643 752 \nQ 2906 1113 2906 1747 \nQ 2906 2381 2643 2742 \nQ 2381 3103 1925 3103 \nQ 1469 3103 1208 2742 \nQ 947 2381 947 1747 \nz\n\" transform=\"scale(0.015625)\"/>\n     <path id=\"DejaVuSans-54\" d=\"M -19 4666 \nL 3928 4666 \nL 3928 4134 \nL 2272 4134 \nL 2272 0 \nL 1638 0 \nL 1638 4134 \nL -19 4134 \nL -19 4666 \nz\n\" transform=\"scale(0.015625)\"/>\n     <path id=\"DejaVuSans-6e\" d=\"M 3513 2113 \nL 3513 0 \nL 2938 0 \nL 2938 2094 \nQ 2938 2591 2744 2837 \nQ 2550 3084 2163 3084 \nQ 1697 3084 1428 2787 \nQ 1159 2491 1159 1978 \nL 1159 0 \nL 581 0 \nL 581 3500 \nL 1159 3500 \nL 1159 2956 \nQ 1366 3272 1645 3428 \nQ 1925 3584 2291 3584 \nQ 2894 3584 3203 3211 \nQ 3513 2838 3513 2113 \nz\n\" transform=\"scale(0.015625)\"/>\n     <path id=\"DejaVuSans-67\" d=\"M 2906 1791 \nQ 2906 2416 2648 2759 \nQ 2391 3103 1925 3103 \nQ 1463 3103 1205 2759 \nQ 947 2416 947 1791 \nQ 947 1169 1205 825 \nQ 1463 481 1925 481 \nQ 2391 481 2648 825 \nQ 2906 1169 2906 1791 \nz\nM 3481 434 \nQ 3481 -459 3084 -895 \nQ 2688 -1331 1869 -1331 \nQ 1566 -1331 1297 -1286 \nQ 1028 -1241 775 -1147 \nL 775 -588 \nQ 1028 -725 1275 -790 \nQ 1522 -856 1778 -856 \nQ 2344 -856 2625 -561 \nQ 2906 -266 2906 331 \nL 2906 616 \nQ 2728 306 2450 153 \nQ 2172 0 1784 0 \nQ 1141 0 747 490 \nQ 353 981 353 1791 \nQ 353 2603 747 3093 \nQ 1141 3584 1784 3584 \nQ 2172 3584 2450 3431 \nQ 2728 3278 2906 2969 \nL 2906 3500 \nL 3481 3500 \nL 3481 434 \nz\n\" transform=\"scale(0.015625)\"/>\n     <path id=\"DejaVuSans-43\" d=\"M 4122 4306 \nL 4122 3641 \nQ 3803 3938 3442 4084 \nQ 3081 4231 2675 4231 \nQ 1875 4231 1450 3742 \nQ 1025 3253 1025 2328 \nQ 1025 1406 1450 917 \nQ 1875 428 2675 428 \nQ 3081 428 3442 575 \nQ 3803 722 4122 1019 \nL 4122 359 \nQ 3791 134 3420 21 \nQ 3050 -91 2638 -91 \nQ 1578 -91 968 557 \nQ 359 1206 359 2328 \nQ 359 3453 968 4101 \nQ 1578 4750 2638 4750 \nQ 3056 4750 3426 4639 \nQ 3797 4528 4122 4306 \nz\n\" transform=\"scale(0.015625)\"/>\n     <path id=\"DejaVuSans-76\" d=\"M 191 3500 \nL 800 3500 \nL 1894 563 \nL 2988 3500 \nL 3597 3500 \nL 2284 0 \nL 1503 0 \nL 191 3500 \nz\n\" transform=\"scale(0.015625)\"/>\n     <path id=\"DejaVuSans-3d\" d=\"M 678 2906 \nL 4684 2906 \nL 4684 2381 \nL 678 2381 \nL 678 2906 \nz\nM 678 1631 \nL 4684 1631 \nL 4684 1100 \nL 678 1100 \nL 678 1631 \nz\n\" transform=\"scale(0.015625)\"/>\n     <path id=\"DejaVuSans-36\" d=\"M 2113 2584 \nQ 1688 2584 1439 2293 \nQ 1191 2003 1191 1497 \nQ 1191 994 1439 701 \nQ 1688 409 2113 409 \nQ 2538 409 2786 701 \nQ 3034 994 3034 1497 \nQ 3034 2003 2786 2293 \nQ 2538 2584 2113 2584 \nz\nM 3366 4563 \nL 3366 3988 \nQ 3128 4100 2886 4159 \nQ 2644 4219 2406 4219 \nQ 1781 4219 1451 3797 \nQ 1122 3375 1075 2522 \nQ 1259 2794 1537 2939 \nQ 1816 3084 2150 3084 \nQ 2853 3084 3261 2657 \nQ 3669 2231 3669 1497 \nQ 3669 778 3244 343 \nQ 2819 -91 2113 -91 \nQ 1303 -91 875 529 \nQ 447 1150 447 2328 \nQ 447 3434 972 4092 \nQ 1497 4750 2381 4750 \nQ 2619 4750 2861 4703 \nQ 3103 4656 3366 4563 \nz\n\" transform=\"scale(0.015625)\"/>\n    </defs>\n    <use xlink:href=\"#DejaVuSans-52\" transform=\"translate(0 0.015625)\"/>\n    <use xlink:href=\"#DejaVuSans-65\" transform=\"translate(69.482422 0.015625)\"/>\n    <use xlink:href=\"#DejaVuSans-63\" transform=\"translate(131.005859 0.015625)\"/>\n    <use xlink:href=\"#DejaVuSans-74\" transform=\"translate(185.986328 0.015625)\"/>\n    <use xlink:href=\"#DejaVuSans-69\" transform=\"translate(225.195312 0.015625)\"/>\n    <use xlink:href=\"#DejaVuSans-66\" transform=\"translate(252.978516 0.015625)\"/>\n    <use xlink:href=\"#DejaVuSans-69\" transform=\"translate(288.183594 0.015625)\"/>\n    <use xlink:href=\"#DejaVuSans-65\" transform=\"translate(315.966797 0.015625)\"/>\n    <use xlink:href=\"#DejaVuSans-64\" transform=\"translate(377.490234 0.015625)\"/>\n    <use xlink:href=\"#DejaVuSans-20\" transform=\"translate(440.966797 0.015625)\"/>\n    <use xlink:href=\"#DejaVuSans-54\" transform=\"translate(472.753906 0.015625)\"/>\n    <use xlink:href=\"#DejaVuSans-75\" transform=\"translate(533.837891 0.015625)\"/>\n    <use xlink:href=\"#DejaVuSans-6e\" transform=\"translate(597.216797 0.015625)\"/>\n    <use xlink:href=\"#DejaVuSans-69\" transform=\"translate(660.595703 0.015625)\"/>\n    <use xlink:href=\"#DejaVuSans-6e\" transform=\"translate(688.378906 0.015625)\"/>\n    <use xlink:href=\"#DejaVuSans-67\" transform=\"translate(751.757812 0.015625)\"/>\n    <use xlink:href=\"#DejaVuSans-20\" transform=\"translate(815.234375 0.015625)\"/>\n    <use xlink:href=\"#DejaVuSans-43\" transform=\"translate(847.021484 0.015625)\"/>\n    <use xlink:href=\"#DejaVuSans-75\" transform=\"translate(916.845703 0.015625)\"/>\n    <use xlink:href=\"#DejaVuSans-72\" transform=\"translate(980.224609 0.015625)\"/>\n    <use xlink:href=\"#DejaVuSans-76\" transform=\"translate(1021.337891 0.015625)\"/>\n    <use xlink:href=\"#DejaVuSans-65\" transform=\"translate(1080.517578 0.015625)\"/>\n    <use xlink:href=\"#DejaVuSans-73\" transform=\"translate(1142.041016 0.015625)\"/>\n    <use xlink:href=\"#DejaVuSans-20\" transform=\"translate(1194.140625 0.015625)\"/>\n    <use xlink:href=\"#DejaVuSans-Oblique-61\" transform=\"translate(1225.927734 0.015625)\"/>\n    <use xlink:href=\"#DejaVuSans-Oblique-69\" transform=\"translate(1287.207031 -16.390625) scale(0.7)\"/>\n    <use xlink:href=\"#DejaVuSans-3d\" transform=\"translate(1320.292969 -16.390625) scale(0.7)\"/>\n    <use xlink:href=\"#DejaVuSans-31\" transform=\"translate(1392.583008 -16.390625) scale(0.7)\"/>\n    <use xlink:href=\"#DejaVuSans-36\" transform=\"translate(1437.119141 -16.390625) scale(0.7)\"/>\n    <use xlink:href=\"#DejaVuSans-28\" transform=\"translate(1484.389648 0.015625)\"/>\n    <use xlink:href=\"#DejaVuSans-Oblique-78\" transform=\"translate(1523.40332 0.015625)\"/>\n    <use xlink:href=\"#DejaVuSans-29\" transform=\"translate(1582.583008 0.015625)\"/>\n    <use xlink:href=\"#DejaVuSans-20\" transform=\"translate(1621.59668 0.015625)\"/>\n    <use xlink:href=\"#DejaVuSans-76\" transform=\"translate(1653.383789 0.015625)\"/>\n    <use xlink:href=\"#DejaVuSans-65\" transform=\"translate(1712.563477 0.015625)\"/>\n    <use xlink:href=\"#DejaVuSans-72\" transform=\"translate(1774.086914 0.015625)\"/>\n    <use xlink:href=\"#DejaVuSans-73\" transform=\"translate(1815.200195 0.015625)\"/>\n    <use xlink:href=\"#DejaVuSans-75\" transform=\"translate(1867.299805 0.015625)\"/>\n    <use xlink:href=\"#DejaVuSans-73\" transform=\"translate(1930.678711 0.015625)\"/>\n    <use xlink:href=\"#DejaVuSans-20\" transform=\"translate(1982.77832 0.015625)\"/>\n    <use xlink:href=\"#DejaVuSans-73\" transform=\"translate(2014.56543 0.015625)\"/>\n    <use xlink:href=\"#DejaVuSans-74\" transform=\"translate(2066.665039 0.015625)\"/>\n    <use xlink:href=\"#DejaVuSans-69\" transform=\"translate(2105.874023 0.015625)\"/>\n    <use xlink:href=\"#DejaVuSans-6d\" transform=\"translate(2133.657227 0.015625)\"/>\n    <use xlink:href=\"#DejaVuSans-75\" transform=\"translate(2231.069336 0.015625)\"/>\n    <use xlink:href=\"#DejaVuSans-6c\" transform=\"translate(2294.448242 0.015625)\"/>\n    <use xlink:href=\"#DejaVuSans-69\" transform=\"translate(2322.231445 0.015625)\"/>\n    <use xlink:href=\"#DejaVuSans-20\" transform=\"translate(2350.014648 0.015625)\"/>\n    <use xlink:href=\"#DejaVuSans-Oblique-78\" transform=\"translate(2381.801758 0.015625)\"/>\n   </g>\n  </g>\n </g>\n <defs>\n  <clipPath id=\"pa7830464c8\">\n   <rect x=\"46.965625\" y=\"36\" width=\"334.8\" height=\"217.44\"/>\n  </clipPath>\n </defs>\n</svg>\n",
      "text/plain": [
       "<Figure size 432x288 with 1 Axes>"
      ]
     },
     "metadata": {
      "needs_background": "light"
     },
     "output_type": "display_data"
    }
   ],
   "source": [
    "plt.figure()\n",
    "plt.suptitle(\"Rectified Tuning Curves $a_{i=16}(x)$ versus stimuli $x$\")\n",
    "for neuron in neurons:\n",
    "    plt.plot(space, neuron.rate)\n",
    "plt.xlabel(\"stimuli $x$\")\n",
    "plt.ylabel(\"rate $a_i(x)$ Hz\")\n",
    "plt.show()"
   ]
  },
  {
   "cell_type": "markdown",
   "metadata": {},
   "source": [
    "**c) Computing identity decoders.** Compute the optimal identity decoder $\\vec d$ for those 16 neurons (as shown in class). Report the value of the individual decoder coefficients. Compute $d$ using the matrix notation mentioned in the course notes. Do not apply any regularization. $A$ is the matrix of activities (the same data used to generate the plot in 1.1b).\n"
   ]
  },
  {
   "cell_type": "markdown",
   "metadata": {},
   "source": [
    "Solving the problem (below) of least squares for the general case when $d$ is dimension $N$ as $\\bold{D}$ see that\n",
    "$$\n",
    "\\bold{D^T}\\approx(\\bold{A}\\bold{A^T})^{-1}\\bold{A}\\bold{X^T}\n",
    "$$"
   ]
  },
  {
   "cell_type": "code",
   "execution_count": 847,
   "metadata": {},
   "outputs": [
    {
     "name": "stdout",
     "output_type": "stream",
     "text": [
      "Decoders ----------\n",
      "[-9.04442718e-05 -8.18141634e-05  9.40587950e-04 -1.39753131e-03\n",
      "  5.26991976e-05 -1.32515445e-03 -6.58968919e-04 -4.26051588e-04\n",
      "  8.56513564e-04 -1.80305414e-04  9.20342728e-03 -1.03734207e-02\n",
      "  6.72187738e-03  1.82491677e-03  3.28703379e-04 -4.72469121e-03]\n",
      "-----------------\n"
     ]
    }
   ],
   "source": [
    "# make a list of all the activities\n",
    "activities = []\n",
    "inputs = []\n",
    "for neuron in neurons:\n",
    "    activities.append(neuron.rate)\n",
    "    inputs.append(space)\n",
    "\n",
    "# make A matrix\n",
    "A = np.array(activities)\n",
    "X = np.array(inputs)\n",
    "\n",
    "# Calculate Decoders\n",
    "D = np.linalg.lstsq(A.T, X.T, rcond=None)[0].T\n",
    "\n",
    "# decoders should be the same, so only print the first one\n",
    "print_block(\"Decoders\", D[0])"
   ]
  },
  {
   "cell_type": "markdown",
   "metadata": {},
   "source": [
    "**d) Evaluating decoding errors.** Compute and plot $\\hat{x}=\\sum_i d_i a_i(x)$. Overlay on the plot the line $y=x$. Make a separate plot of $x-\\hat{x}$ to see what the error looks like. Report the Root Mean Squared Error (RMSE) value.\n"
   ]
  },
  {
   "cell_type": "code",
   "execution_count": 848,
   "metadata": {},
   "outputs": [],
   "source": [
    "# ✍ <YOUR SOLUTION HERE>"
   ]
  },
  {
   "cell_type": "markdown",
   "metadata": {},
   "source": [
    "**e) Decoding under noise.** Now try decoding under noise. Add random normally distributed noise to $a$ and decode again. The noise is a random variable with mean $\\mu=0$ and standard deviation of $\\sigma=0.2 \\max(A)$ (where $\\max(A)$ is the maximum firing rate of all the neurons). Resample this variable for every different $x$ value for every different neuron. Create all the same plots as in part d). Report the RMSE.\n"
   ]
  },
  {
   "cell_type": "code",
   "execution_count": 849,
   "metadata": {},
   "outputs": [],
   "source": [
    "# ✍ <YOUR SOLUTION HERE>"
   ]
  },
  {
   "cell_type": "markdown",
   "metadata": {},
   "source": [
    "**f) Accounting for decoder noise.** Recompute the decoder $\\vec d$ taking noise into account (i.e., apply the appropriate regularization, as shown in class). Show how these decoders behave when decoding both with and without noise added to $a$ by making the same plots as in d) and e). Report the RMSE for all cases.\n"
   ]
  },
  {
   "cell_type": "code",
   "execution_count": 850,
   "metadata": {},
   "outputs": [],
   "source": [
    "# ✍ <YOUR SOLUTION HERE>"
   ]
  },
  {
   "cell_type": "markdown",
   "metadata": {},
   "source": [
    "**g) Interpretation.** Show a 2x2 table of the four RMSE values reported in parts d), e), and f). This should show the effects of adding noise and whether the decoders $d$ are computed taking noise into account. Write a few sentences commenting on what the table shows, i.e., what the effect of adding noise to the activities is with respect to the measured error and why accounting for noise when computing the decoders increases/decreases/does not change the measured RMSE.\n"
   ]
  },
  {
   "cell_type": "markdown",
   "metadata": {},
   "source": [
    "✍ \\<YOUR SOLUTION HERE\\>\n"
   ]
  },
  {
   "cell_type": "markdown",
   "metadata": {},
   "source": [
    "## 1.2 Exploring sources of error\n",
    "\n",
    "**a) Exploring error due to distortion and noise.** Plot the error due to distortion $E_\\mathrm{dist}$ and the error due to noise $E_\\mathrm{noise}$ as a function of $n$, the number of neurons. Generate two different loglog plots (one for each type of error) with $n$ values of at least $[4, 8, 16, 32, 64, 128, 256, 512]$. For each $n$ value, do at least $5$ runs and average the results. For each run, different $\\alpha$, $J^\\mathrm{bias}$, and $e$ values should be generated for each neuron. Compute $d$ taking noise into account, with $\\sigma = 0.1 \\max(A)$. Show visually that the errors are proportional to $1/n$ or $1/n^2$.\n"
   ]
  },
  {
   "cell_type": "code",
   "execution_count": 851,
   "metadata": {},
   "outputs": [],
   "source": [
    "# ✍ <YOUR SOLUTION HERE>"
   ]
  },
  {
   "cell_type": "markdown",
   "metadata": {},
   "source": [
    "**b) Adapting the noise level.** Repeat part a) with $\\sigma = 0.01 \\max(A)$.\n"
   ]
  },
  {
   "cell_type": "code",
   "execution_count": 852,
   "metadata": {},
   "outputs": [],
   "source": [
    "# ✍ <YOUR SOLUTION HERE>"
   ]
  },
  {
   "cell_type": "markdown",
   "metadata": {},
   "source": [
    "**c) Interpretation.** What does the difference between the graphs in a) and b) tell us about the sources of error in neural populations?\n"
   ]
  },
  {
   "cell_type": "markdown",
   "metadata": {},
   "source": [
    "✍ \\<YOUR SOLUTION HERE\\>\n"
   ]
  },
  {
   "cell_type": "markdown",
   "metadata": {},
   "source": [
    "## 1.3 Leaky Integrate-and-Fire neurons\n",
    "\n",
    "**a) Computing gain and bias.** As in the second part of 1.1a), given a maximum firing rate $a^\\mathrm{max}$ and a bias $J^\\mathrm{bias}$, write down the equations for computing $\\alpha$ and the $J^\\mathrm{bias}$ for this specific neuron model.\n"
   ]
  },
  {
   "cell_type": "markdown",
   "metadata": {},
   "source": [
    "✍ \\<YOUR SOLUTION HERE\\>\n"
   ]
  },
  {
   "cell_type": "markdown",
   "metadata": {},
   "source": [
    "**b) Neuron tuning curves.** Generate the same plot as in 1.1b). Use $\\tau_\\mathrm{ref}=2 \\mathrm{ms}$ and $\\tau_{RC}=20 \\mathrm{ms}$. Use the same distribution of $x$-intercepts and maximum firing rates as in 1.1.\n"
   ]
  },
  {
   "cell_type": "code",
   "execution_count": 853,
   "metadata": {},
   "outputs": [],
   "source": [
    "# ✍ <YOUR SOLUTION HERE>"
   ]
  },
  {
   "cell_type": "markdown",
   "metadata": {},
   "source": [
    "**c) Impact of noise.** Generate the same four plots as in 1.1f) (adding/not adding noise to $A$, accounting/not accounting for noise when computing $\\vec d$), and report the RMSE both with and without noise.\n"
   ]
  },
  {
   "cell_type": "code",
   "execution_count": 854,
   "metadata": {},
   "outputs": [],
   "source": [
    "# ✍ <YOUR SOLUTION HERE>"
   ]
  },
  {
   "cell_type": "markdown",
   "metadata": {},
   "source": [
    "# 2. Reperesentation of Vectors\n",
    "\n",
    "## 2.1 Vector tuning curves\n",
    "\n",
    "**a) Plotting 2D tuning curves.** Plot the tuning curve of an LIF neuron whose 2D preferred direction vector is at an angle of $\\theta=-\\pi/4$, has an $x$-intercept at the origin $(0,0)$, and has a maximum firing rate of $100 \\mathrm{Hz}$.\n"
   ]
  },
  {
   "cell_type": "code",
   "execution_count": 855,
   "metadata": {},
   "outputs": [],
   "source": [
    "# ✍ <YOUR SOLUTION HERE>"
   ]
  },
  {
   "cell_type": "markdown",
   "metadata": {},
   "source": [
    "**b) Plotting the 2D tuning curve along the unit circle.** Plot the tuning curve for the same neuron as in a), but only considering the points around the unit circle, i.e., sample the activation for different angles $\\theta$. Fit a curve of the form $c_1 \\cos(c_2\\theta+c_3)+c_4$ to the tuning curve and plot it as well.\n"
   ]
  },
  {
   "cell_type": "code",
   "execution_count": 856,
   "metadata": {},
   "outputs": [],
   "source": [
    "# ✍ <YOUR SOLUTION HERE>"
   ]
  },
  {
   "cell_type": "markdown",
   "metadata": {},
   "source": [
    "**c) Discussion.** What makes a cosine a good choice for the curve fit in 2.1b? Why does it differ from the ideal curve?\n"
   ]
  },
  {
   "cell_type": "markdown",
   "metadata": {},
   "source": [
    "✍ \\<YOUR SOLUTION HERE\\>\n"
   ]
  },
  {
   "cell_type": "markdown",
   "metadata": {},
   "source": [
    "## 2.2 Vector representation\n",
    "\n",
    "**a) Choosing encoding vectors.** Generate a set of $100$ random unit vectors uniformly distributed around the unit circle. These will be the encoders $\\vec e$ for $100$ neurons. Plot these vectors with a quiver or line plot (i.e., not just points, but lines/arrows to the points).\n"
   ]
  },
  {
   "cell_type": "code",
   "execution_count": 857,
   "metadata": {},
   "outputs": [],
   "source": [
    "# ✍ <YOUR SOLUTION HERE>"
   ]
  },
  {
   "cell_type": "markdown",
   "metadata": {},
   "source": [
    "**b) Computing the identity decoder.** Use LIF neurons with the same properties as in question 1.3. When computing the decoders, take into account noise with $\\sigma = 0.2\\max(A)$. Plot the decoders in the same way you plotted the encoders.\n"
   ]
  },
  {
   "cell_type": "code",
   "execution_count": 858,
   "metadata": {},
   "outputs": [],
   "source": [
    "# ✍ <YOUR SOLUTION HERE>"
   ]
  },
  {
   "cell_type": "markdown",
   "metadata": {},
   "source": [
    "**c) Discussion.** How do these decoding vectors compare to the encoding vectors?\n"
   ]
  },
  {
   "cell_type": "markdown",
   "metadata": {},
   "source": [
    "✍ \\<YOUR SOLUTION HERE\\>\n"
   ]
  },
  {
   "cell_type": "markdown",
   "metadata": {},
   "source": [
    "**d) Testing the decoder.** Generate 20 random $\\vec x$ values throughout the unit circle (i.e.,~with different directions and radiuses). For each $\\vec x$ value, determine the neural activity $a_i$ for each of the 100 neurons. Now decode these values (i.e. compute $\\hat{x} = D \\vec a$) using the decoders from part b). Plot the original and decoded values on the same graph in different colours, and compute the RMSE.\n"
   ]
  },
  {
   "cell_type": "code",
   "execution_count": 859,
   "metadata": {},
   "outputs": [],
   "source": [
    "# ✍ <YOUR SOLUTION HERE>"
   ]
  },
  {
   "cell_type": "markdown",
   "metadata": {},
   "source": [
    "**e) Using encoders as decoders.** Repeat part d) but use the _encoders_ as decoders. This is what Georgopoulos used in his original approach to decoding information from populations of neurons. Plot the decoded values and compute the RMSE. In addition, recompute the RMSE in both cases, but ignore the magnitude of the decoded vectors by normalizing before computing the RMSE.\n"
   ]
  },
  {
   "cell_type": "code",
   "execution_count": 860,
   "metadata": {},
   "outputs": [],
   "source": [
    "# ✍ <YOUR SOLUTION HERE>"
   ]
  },
  {
   "cell_type": "markdown",
   "metadata": {},
   "source": [
    "**f) Discussion.** When computing the RMSE on the normalized vectors, using the encoders as decoders should result in a larger, yet still surprisingly small error. Thinking about random unit vectors in high dimensional spaces, why is this the case? What are the relative merits of these two approaches to decoding?\n"
   ]
  },
  {
   "cell_type": "markdown",
   "metadata": {},
   "source": [
    "✍ \\<YOUR SOLUTION HERE\\>\n"
   ]
  }
 ],
 "metadata": {
  "kernelspec": {
   "display_name": "Python 3 (ipykernel)",
   "language": "python",
   "name": "python3"
  },
  "language_info": {
   "codemirror_mode": {
    "name": "ipython",
    "version": 3
   },
   "file_extension": ".py",
   "mimetype": "text/x-python",
   "name": "python",
   "nbconvert_exporter": "python",
   "pygments_lexer": "ipython3",
   "version": "3.9.10"
  },
  "vscode": {
   "interpreter": {
    "hash": "ac2eaa0ea0ebeafcc7822e65e46aa9d4f966f30b695406963e145ea4a91cd4fc"
   }
  }
 },
 "nbformat": 4,
 "nbformat_minor": 4
}
